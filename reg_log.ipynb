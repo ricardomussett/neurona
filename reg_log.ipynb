{
 "cells": [
  {
   "cell_type": "markdown",
   "metadata": {},
   "source": [
    "## Neurona"
   ]
  },
  {
   "cell_type": "markdown",
   "metadata": {},
   "source": [
    "#### Liberias a utilizar"
   ]
  },
  {
   "cell_type": "code",
   "execution_count": 1,
   "metadata": {},
   "outputs": [],
   "source": [
    "import random\n",
    "import numpy as np\n",
    "import matplotlib.pyplot as plt\n",
    "\n",
    "from scipy.special import xlogy\n",
    "from math import log\n",
    "\n",
    "from generator_data import gen_data_2d"
   ]
  },
  {
   "cell_type": "markdown",
   "metadata": {},
   "source": [
    "---"
   ]
  },
  {
   "cell_type": "markdown",
   "metadata": {},
   "source": [
    "### Data"
   ]
  },
  {
   "cell_type": "code",
   "execution_count": 2,
   "metadata": {},
   "outputs": [
    {
     "data": {
      "image/png": "[encoded data removed]",
      "text/plain": [
       "<Figure size 432x288 with 1 Axes>"
      ]
     },
     "metadata": {
      "needs_background": "light"
     },
     "output_type": "display_data"
    }
   ],
   "source": [
    "d = gen_data_2d(8,0.80)"
   ]
  },
  {
   "cell_type": "markdown",
   "metadata": {},
   "source": [
    "-------"
   ]
  },
  {
   "cell_type": "markdown",
   "metadata": {},
   "source": [
    "## Neurona"
   ]
  },
  {
   "cell_type": "markdown",
   "metadata": {},
   "source": [
    "###"
   ]
  },
  {
   "cell_type": "code",
   "execution_count": null,
   "metadata": {},
   "outputs": [],
   "source": [
    "def sigmoide(z, d = False):\n",
    "    \"\"\"\n",
    "    Retorna el valor de la funcion sigmoide\n",
    "\n",
    "        Parameters:\n",
    "                z (float): Argumento\n",
    "                d (bool): Derivada\n",
    "\n",
    "        Returns:\n",
    "                valor (float): Valor de la sigmoide\n",
    "    \"\"\"\n",
    "    if d:\n",
    "        return z * (1-z)\n",
    "\n",
    "    return (1 / (1 + np.exp(-z)))\n",
    "\n",
    "\n",
    "def nll_loss(a,Y, dz = False):\n",
    "    \"\"\"\n",
    "    Retorna el costo segun la funcion negative log-likelihood (nll) \n",
    "    para el valor predecido a con respecto al real Y\n",
    "\n",
    "        Parameters:\n",
    "                a (int): Valor predecido\n",
    "                Y (int): Valor real\n",
    "                dz (bool): Derivada\n",
    "\n",
    "        Returns:\n",
    "                l (float): Costo\n",
    "    \"\"\"\n",
    "    if dz:\n",
    "        return (a-Y)\n",
    "\n",
    "    if Y:\n",
    "        l = -log(a)\n",
    "    else:\n",
    "        l = -log(1-a)\n",
    "\n",
    "    return l\n",
    "\n",
    "\n",
    "class Neuron:\n",
    "    '''Clase Neurona para m entradas y una salida'''\n",
    "    def __init__(self, m):\n",
    "        self.m = m\n",
    "        self.W = [0 for i in range(m)]\n",
    "        self.b = 0\n",
    "        self.loss = 0\n",
    "\n",
    "        self._p = None\n",
    "        self._hist_loss = []\n",
    "        self._hist_W = []\n",
    "        self._hist_b = []\n",
    "\n",
    "\n",
    "    def init_param(self):\n",
    "        '''Inicializa los pesos W con valores aleatorios del entre 0 y 1'''\n",
    "        for i in range(self.m):\n",
    "            self.W[i] = random.random()\n",
    "\n",
    "        self.b = random.random()\n",
    "\n",
    "        return True\n",
    "\n",
    "\n",
    "    def preactivar(self, X):\n",
    "        '''Realiza el producto punto de los pesos por las entradas'''\n",
    "\n",
    "        z = 0\n",
    "\n",
    "        for wi, xi in zip(self.W, X):\n",
    "            z += wi*xi\n",
    "\n",
    "        z += self.b\n",
    "\n",
    "        return z\n",
    "\n",
    "\n",
    "    def predecir(self, X, func_act, *args):\n",
    "        '''\n",
    "        Evalua la preactivacion en la funcion activacion\n",
    "\n",
    "        Parameters:\n",
    "                X (list or tupla): entrada\n",
    "                func_act (fun): funcion activacion\n",
    "                *arg: parametros adicionales de la funcion activacion\n",
    "\n",
    "        Return:\n",
    "                predicion (float): prediccion\n",
    "        '''\n",
    "        self._p = func_act(self.preactivar(X))\n",
    "\n",
    "        return self._p \n",
    "\n",
    "\n",
    "    def entrenar(self, iter, eta, ce, func_act , func_loss, *args):\n",
    "        '''\n",
    "        Entrena en modelo con el conjunto de dato de entrada\n",
    "\n",
    "        Parameters:\n",
    "                iter (int): numer de iteraciones\n",
    "                eta (float): taza de aprendizaje\n",
    "                ce (list of tupla): conjunto de datos\n",
    "                func_act (fun): funcion activacion\n",
    "                func_loss (fun): funcion de perdida\n",
    "                *arg: parametros adicionales de la funcion activacion y perdida\n",
    "\n",
    "        Return:\n",
    "                result (dict): resumen de entrenamiento\n",
    "        '''\n",
    "        #cantidad de data point\n",
    "        n = len(ce)\n",
    "\n",
    "        #inicializando las derivadas parciales\n",
    "        dw = [0 for i in range(self.m)] \n",
    "        db = 0\n",
    "\n",
    "        #iterando\n",
    "        for k in range(iter):\n",
    "            for X, Y in ce:\n",
    "\n",
    "                a = self.predecir(X, func_act)\n",
    "\n",
    "                dz = func_loss(a, Y, dz=True)\n",
    "\n",
    "                for i, xi in enumerate(X):\n",
    "                    dw[i] += xi * dz\n",
    "\n",
    "                db  += dz\n",
    "\n",
    "            #media de coste\n",
    "            dw = [(dwi / n ) for dwi in dw]\n",
    "            db /= n\n",
    "\n",
    "            #actualizando pesos\n",
    "            for i, dwi in enumerate(dw):\n",
    "                self.W[i] -= eta*dwi\n",
    "\n",
    "            self.b -= eta*db\n",
    "\n",
    "            #calculando coste\n",
    "            self._loss = func_loss(a, Y)\n",
    "            \n",
    "            #historico de entrenamiento\n",
    "            self._hist_loss.append(self._loss)\n",
    "            self._hist_W.append(self.W)\n",
    "            self._hist_b.append(self.b)\n",
    "\n",
    "        result ={\n",
    "            'loss': self._loss,\n",
    "            'W': self.W,\n",
    "            'b': self.b,\n",
    "            'it':iters,\n",
    "            'dp':n,\n",
    "        }\n",
    "\n",
    "        return result\n",
    "\n",
    "\n",
    "    def visualizar_entrenamiento(self, d, hiperplano=False):\n",
    "        '''\n",
    "        Visualizacion del entrenamiento contra los datos\n",
    "        \n",
    "        Parameters:\n",
    "                d (numpy matrix): matriz de datos\n",
    "                hiperplano (bool): mostrar dos planos o degradado\n",
    "        \n",
    "        Return:\n",
    "                result (bool): True si fue ejecutado el metodo\n",
    "        '''\n",
    "        x = np.linspace(-0.9,0.9, 1000)\n",
    "        y = np.linspace(-0.9,0.9, 1000)\n",
    "\n",
    "        x = x.tolist()\n",
    "        y = y.tolist()\n",
    "\n",
    "        xy = []\n",
    "\n",
    "        for xi in x:\n",
    "\n",
    "            yi = 0\n",
    "            zi = []\n",
    "\n",
    "            for yi in y:\n",
    "\n",
    "                z = self.predecir([xi,yi], sigmoide)\n",
    "\n",
    "                if hiperplano:\n",
    "                    z = self.predecir([xi,yi], sigmoide) > 0.5\n",
    "                    p = 1 if z else 0.25\n",
    "\n",
    "                p = z\n",
    "\n",
    "                zi.append(p)\n",
    "\n",
    "            xy.append(zi)\n",
    "        \n",
    "        zss = np.array(xy)\n",
    "        \n",
    "        h = plt.contourf(x, y, zss.T)\n",
    "        \n",
    "        plt.axis('scaled')\n",
    "        plt.colorbar()\n",
    "        \n",
    "        plt.scatter(d[0],d[1], c = d[2])\n",
    "\n",
    "        plt.show()\n",
    "\n",
    "        return True\n"
   ]
  },
  {
   "cell_type": "markdown",
   "metadata": {},
   "source": [
    "### Parametros"
   ]
  },
  {
   "cell_type": "code",
   "execution_count": null,
   "metadata": {},
   "outputs": [],
   "source": [
    "features = d[0:2,:].T\n",
    "\n",
    "labels = d[2,:]\n",
    "\n",
    "eta = 0.8\n",
    "\n",
    "iters = 1000\n",
    "\n",
    "m = 2\n",
    "\n",
    "ce = [f for f in zip(features.tolist(), labels)]"
   ]
  },
  {
   "cell_type": "markdown",
   "metadata": {},
   "source": [
    "### Entrenamiento"
   ]
  },
  {
   "cell_type": "code",
   "execution_count": null,
   "metadata": {},
   "outputs": [],
   "source": [
    "#Creando el objeto\n",
    "neurona = Neuron(m)\n",
    "\n",
    "#Inicializando el modelo\n",
    "neurona.init_param()\n",
    "\n",
    "#entrenando con los parametros\n",
    "neurona.entrenar(iters, eta, ce, sigmoide, nll_loss)"
   ]
  },
  {
   "cell_type": "markdown",
   "metadata": {},
   "source": [
    "### Visualizando las perdidas"
   ]
  },
  {
   "cell_type": "code",
   "execution_count": null,
   "metadata": {},
   "outputs": [],
   "source": [
    "plt.plot(neurona._hist_loss)"
   ]
  },
  {
   "cell_type": "markdown",
   "metadata": {},
   "source": [
    "### Visualizando los resultados"
   ]
  },
  {
   "cell_type": "code",
   "execution_count": null,
   "metadata": {},
   "outputs": [],
   "source": [
    "print(neurona.W)\n",
    "print(neurona.b)\n",
    "\n",
    "neurona.visualizar_entrenamiento(d = d, hiperplano=False)"
   ]
  },
  {
   "cell_type": "markdown",
   "metadata": {},
   "source": [
    "### Prediccion"
   ]
  },
  {
   "cell_type": "code",
   "execution_count": null,
   "metadata": {},
   "outputs": [],
   "source": [
    "neurona.predecir(X=[0.5,0.5], func_act=sigmoide)"
   ]
  },
  {
   "cell_type": "markdown",
   "metadata": {},
   "source": [
    "---"
   ]
  },
  {
   "cell_type": "markdown",
   "metadata": {},
   "source": [
    "## NeuronaV"
   ]
  },
  {
   "cell_type": "code",
   "execution_count": 90,
   "metadata": {},
   "outputs": [],
   "source": [
    "def sigmoide(z, d = False):\n",
    "    \"\"\"\n",
    "    Retorna el valor de la funcion sigmoide\n",
    "\n",
    "        Parameters:\n",
    "                z (float): Argumento\n",
    "                d (bool): Derivada\n",
    "\n",
    "        Returns:\n",
    "                valor (float): Valor de la sigmoide\n",
    "    \"\"\"\n",
    "    if d:\n",
    "        return z * (1-z)\n",
    "\n",
    "    return (1 / (1 + np.exp(-z)))\n",
    "\n",
    "\n",
    "def nll_lossv(a,Y, dz = False, sum = True):\n",
    "    \"\"\"\n",
    "    Retorna el costo segun la funcion negative log-likelihood (nll) \n",
    "    para el valor predecido a con respecto al real Y\n",
    "\n",
    "        Parameters:\n",
    "                a (int): Valor predecido\n",
    "                Y (int): Valor real\n",
    "                dz (bool): Derivada\n",
    "\n",
    "        Returns:\n",
    "                l (float): Costo\n",
    "    \"\"\"\n",
    "    if dz:\n",
    "        v = (a-Y)\n",
    "        return v\n",
    "\n",
    "    loss = -xlogy(Y, a) - xlogy((1-Y),(1-a))\n",
    "\n",
    "    if sum:\n",
    "        loss = loss.sum() / loss.shape[1]\n",
    "\n",
    "    return loss\n",
    "\n",
    "\n",
    "class NeuronV:\n",
    "    '''Clase Neurona para m entradas y una salida'''\n",
    "    def __init__(self, m):\n",
    "        self._wm = (m,1)\n",
    "        self.m = m\n",
    "        self.W = np.zeros((m,1))\n",
    "        self.b = 0\n",
    "        self.loss = 0\n",
    "\n",
    "        self._hist_loss = []\n",
    "        self._hist_W = []\n",
    "        self._hist_b = []\n",
    "\n",
    "\n",
    "    def init_param(self):\n",
    "        '''Inicializa los pesos W con valores aleatorios del entre 0 y 1'''\n",
    "\n",
    "        self.W = np.random.random(self._wm )\n",
    "        self.b = random.random()\n",
    "\n",
    "        return True\n",
    "\n",
    "\n",
    "    def get_preactivate(self, X):\n",
    "        '''Realiza el producto punto de los pesos por las entradas'''\n",
    "        return np.dot(self.W.T, X) + self.b\n",
    "\n",
    "\n",
    "    def get_predict(self, X, func_act, *args):\n",
    "        '''\n",
    "        Evalua la preactivacion en la funcion activacion\n",
    "\n",
    "        Parameters:\n",
    "                X (list or tupla): entrada\n",
    "                func_act (fun): funcion activacion\n",
    "                *arg: parametros adicionales de la funcion activacion\n",
    "\n",
    "        Return:\n",
    "                predicion (float): prediccion\n",
    "        '''\n",
    "        return func_act(self.get_preactivate(X))\n",
    "\n",
    "\n",
    "    def  update_param(self, dw, db, eta):\n",
    "        \"\"\"\n",
    "        Actualiza los pesos W con el gradiente\n",
    "\n",
    "        Args:\n",
    "            dw (numpy Array): gradiente de W\n",
    "            db (float): gradiente de b\n",
    "            eta (float): taza de aprendizaje\n",
    "\n",
    "        Returns:\n",
    "            booll : True\n",
    "        \"\"\"\n",
    "\n",
    "        self.W = self.W - eta*dw\n",
    "        self.b = self.b - eta*db\n",
    "\n",
    "        return True\n",
    "\n",
    "\n",
    "    def update_hist(self):\n",
    "        \"\"\"Actualizar el historico de los parametros\n",
    "\n",
    "        Args:\n",
    "            loss (float): _description_\n",
    "            W (float): _description_\n",
    "            b (float): _description_\n",
    "\n",
    "        Returns:\n",
    "            bool: True\n",
    "        \"\"\"\n",
    "        self._hist_loss.append(self._loss)\n",
    "        self._hist_W.append(self.W)\n",
    "        self._hist_b.append(self.b)\n",
    "        return True\n",
    "\n",
    "\n",
    "    def entrenar(self, iter, eta, X, Y, func_act , func_loss, *args):\n",
    "        '''\n",
    "        Entrena en modelo con el conjunto de dato de entrada\n",
    "\n",
    "        Parameters:\n",
    "                iter (int): numer de iteraciones\n",
    "                eta (float): taza de aprendizaje\n",
    "                X (numpy array): conjunto de datos\n",
    "                Y (numpy array): etiquetas\n",
    "                func_act (fun): funcion activacion\n",
    "                func_loss (fun): funcion de perdida\n",
    "                *arg: parametros adicionales de la funcion activacion y perdida\n",
    "\n",
    "        Return:\n",
    "                result (dict): resumen de entrenamiento\n",
    "        '''\n",
    "        #cantidad de data point\n",
    "        n = X.shape[1]\n",
    "\n",
    "        #print('n:', n)\n",
    "\n",
    "        #inicializando las derivadas parciales\n",
    "        dw = np.zeros(self._wm); db = 0\n",
    "\n",
    "        #iterando\n",
    "        for k in range(iter):\n",
    "\n",
    "            a = self.get_predict(X, func_act)\n",
    "\n",
    "            dz = func_loss(a, Y, dz=True)\n",
    "\n",
    "            dwi = X * dz\n",
    "\n",
    "            dwi = dwi.sum(axis=1).reshape(self._wm)/n\n",
    "            dbi = dz.sum()/n\n",
    "\n",
    "            dw = dw + dwi\n",
    "            db = db + dbi\n",
    "\n",
    "            self.update_param(dw,db,eta)\n",
    "\n",
    "            self._loss = func_loss(a, Y)\n",
    "\n",
    "            self.update_hist()\n",
    "\n",
    "        result ={\n",
    "            'loss': self._loss,\n",
    "            'W': self.W,\n",
    "            'b': self.b,\n",
    "            'it':iters,\n",
    "            'dp':n,}\n",
    "\n",
    "        return result\n",
    "\n",
    "\n",
    "    def visualizar_entrenamiento(self, d, hiperplano=False):\n",
    "        '''\n",
    "        Visualizacion del entrenamiento contra los datos\n",
    "\n",
    "        Parameters:\n",
    "                d (numpy matrix): matriz de datos\n",
    "                hiperplano (bool): mostrar dos planos o degradado\n",
    "\n",
    "        Return:\n",
    "                result (bool): True si fue ejecutado el metodo\n",
    "        '''\n",
    "        x = np.linspace(-0.9,0.9, 1000)\n",
    "        y = np.linspace(-0.9,0.9, 1000)\n",
    "\n",
    "        x = x.tolist()\n",
    "        y = y.tolist()\n",
    "\n",
    "        xy = []\n",
    "\n",
    "        for xi in x:\n",
    "\n",
    "            yi = 0\n",
    "            zi = []\n",
    "\n",
    "            for yi in y:\n",
    "\n",
    "                z = self.get_predict(np.array([xi,yi]), sigmoide)[0]\n",
    "\n",
    "                if hiperplano:\n",
    "                    z = self.get_predict(np.array([xi,yi]), sigmoide)[0] > 0.5\n",
    "                    p = 1 if z else 0.25\n",
    "\n",
    "                p = z\n",
    "\n",
    "                zi.append(p)\n",
    "\n",
    "            xy.append(zi)\n",
    "\n",
    "        zss = np.array(xy)\n",
    "\n",
    "        h = plt.contourf(x, y, zss.T)\n",
    "\n",
    "        plt.axis('scaled')\n",
    "        plt.colorbar()\n",
    "\n",
    "        plt.scatter(d[0],d[1], c = d[2])\n",
    "\n",
    "        plt.show()\n",
    "\n",
    "        return True"
   ]
  },
  {
   "cell_type": "markdown",
   "metadata": {},
   "source": [
    "### Parametros"
   ]
  },
  {
   "cell_type": "code",
   "execution_count": 91,
   "metadata": {},
   "outputs": [],
   "source": [
    "features = d[0:2,:].T\n",
    "\n",
    "labels = np.array([d[2,:]]).T\n",
    "\n",
    "eta = 0.25\n",
    "\n",
    "iters = 10000\n",
    "\n",
    "m = 2"
   ]
  },
  {
   "cell_type": "code",
   "execution_count": 92,
   "metadata": {},
   "outputs": [],
   "source": [
    "features = features.T\n",
    "labels = labels.T"
   ]
  },
  {
   "cell_type": "markdown",
   "metadata": {},
   "source": [
    "### Entrenamiento"
   ]
  },
  {
   "cell_type": "code",
   "execution_count": 93,
   "metadata": {},
   "outputs": [
    {
     "data": {
      "text/plain": [
       "True"
      ]
     },
     "execution_count": 93,
     "metadata": {},
     "output_type": "execute_result"
    }
   ],
   "source": [
    "neuronav = NeuronV(2)\n",
    "neuronav.init_param()"
   ]
  },
  {
   "cell_type": "code",
   "execution_count": 94,
   "metadata": {},
   "outputs": [
    {
     "name": "stderr",
     "output_type": "stream",
     "text": [
      "/tmp/ipykernel_32336/19587165.py:15: RuntimeWarning: overflow encountered in exp\n",
      "  return (1 / (1 + np.exp(-z)))\n"
     ]
    },
    {
     "data": {
      "text/plain": [
       "{'loss': 0.0,\n",
       " 'W': array([[-136.86540841],\n",
       "        [5006.20676437]]),\n",
       " 'b': -213.92313518558097,\n",
       " 'it': 10000,\n",
       " 'dp': 28}"
      ]
     },
     "execution_count": 94,
     "metadata": {},
     "output_type": "execute_result"
    }
   ],
   "source": [
    "neuronav.entrenar(iter=iters, eta=eta, X=features,\n",
    "                        Y=labels, func_act=sigmoide, func_loss=nll_lossv)"
   ]
  },
  {
   "cell_type": "markdown",
   "metadata": {},
   "source": [
    "### Visualizando las perdidas"
   ]
  },
  {
   "cell_type": "code",
   "execution_count": 95,
   "metadata": {},
   "outputs": [
    {
     "data": {
      "text/plain": [
       "[<matplotlib.lines.Line2D at 0x7f002eec6890>]"
      ]
     },
     "execution_count": 95,
     "metadata": {},
     "output_type": "execute_result"
    },
    {
     "data": {
      "image/png": "[encoded data removed]",
      "text/plain": [
       "<Figure size 432x288 with 1 Axes>"
      ]
     },
     "metadata": {
      "needs_background": "light"
     },
     "output_type": "display_data"
    }
   ],
   "source": [
    "plt.plot(neuronav._hist_loss)"
   ]
  },
  {
   "cell_type": "code",
   "execution_count": 96,
   "metadata": {},
   "outputs": [
    {
     "data": {
      "text/plain": [
       "[<matplotlib.lines.Line2D at 0x7f002f313310>]"
      ]
     },
     "execution_count": 96,
     "metadata": {},
     "output_type": "execute_result"
    },
    {
     "data": {
      "image/png": "[encoded data removed]",
      "text/plain": [
       "<Figure size 432x288 with 1 Axes>"
      ]
     },
     "metadata": {
      "needs_background": "light"
     },
     "output_type": "display_data"
    }
   ],
   "source": [
    "plt.plot(neuronav._hist_b)"
   ]
  },
  {
   "cell_type": "markdown",
   "metadata": {},
   "source": [
    "### Visualizando los resultados"
   ]
  },
  {
   "cell_type": "code",
   "execution_count": 97,
   "metadata": {},
   "outputs": [
    {
     "name": "stdout",
     "output_type": "stream",
     "text": [
      "[[-136.86540841]\n",
      " [5006.20676437]]\n",
      "-213.92313518558097\n",
      "0\n"
     ]
    },
    {
     "name": "stderr",
     "output_type": "stream",
     "text": [
      "/tmp/ipykernel_32336/19587165.py:15: RuntimeWarning: overflow encountered in exp\n",
      "  return (1 / (1 + np.exp(-z)))\n"
     ]
    },
    {
     "data": {
      "image/png": "[encoded data removed]",
      "text/plain": [
       "<Figure size 432x288 with 2 Axes>"
      ]
     },
     "metadata": {
      "needs_background": "light"
     },
     "output_type": "display_data"
    },
    {
     "data": {
      "text/plain": [
       "True"
      ]
     },
     "execution_count": 97,
     "metadata": {},
     "output_type": "execute_result"
    }
   ],
   "source": [
    "print(neuronav.W)\n",
    "print(neuronav.b)\n",
    "print(neuronav.loss)\n",
    "\n",
    "neuronav.visualizar_entrenamiento(d=d)"
   ]
  },
  {
   "cell_type": "markdown",
   "metadata": {},
   "source": [
    "### Prediccion"
   ]
  },
  {
   "cell_type": "code",
   "execution_count": 87,
   "metadata": {},
   "outputs": [
    {
     "data": {
      "text/plain": [
       "array([2.71669839e-36])"
      ]
     },
     "execution_count": 87,
     "metadata": {},
     "output_type": "execute_result"
    }
   ],
   "source": [
    "neuronav.get_predict(np.array([0,0]), sigmoide)"
   ]
  }
 ],
 "metadata": {
  "kernelspec": {
   "display_name": "Python 3.10.4 64-bit",
   "language": "python",
   "name": "python3"
  },
  "language_info": {
   "codemirror_mode": {
    "name": "ipython",
    "version": 3
   },
   "file_extension": ".py",
   "mimetype": "text/x-python",
   "name": "python",
   "nbconvert_exporter": "python",
   "pygments_lexer": "ipython3",
   "version": "3.10.4"
  },
  "orig_nbformat": 4,
  "vscode": {
   "interpreter": {
    "hash": "916dbcbb3f70747c44a77c7bcd40155683ae19c65e1c03b4aa3499c5328201f1"
   }
  }
 },
 "nbformat": 4,
 "nbformat_minor": 2
}
